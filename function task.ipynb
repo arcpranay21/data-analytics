{
 "cells": [
  {
   "cell_type": "code",
   "execution_count": 3,
   "id": "6264ae60-62ec-4c3e-bc16-ed682ab0b81d",
   "metadata": {},
   "outputs": [
    {
     "name": "stdout",
     "output_type": "stream",
     "text": [
      "This is a dictionary\n",
      "{'city1': 'Hyderabad', 'city2': 'pune', 'city3': 'bangalore'}\n"
     ]
    }
   ],
   "source": [
    "print('This is a dictionary')\n",
    "def dictName(val1,val2,val3):\n",
    "    join_Name = f'{val1}{val2}{val3}'\n",
    "    result = {\n",
    "         'city1':val1,\n",
    "         'city2':val2,\n",
    "         'city3':val3,\n",
    "    }\n",
    "    return result\n",
    "\n",
    "val1 = \"Hyderabad\"\n",
    "val2 = \"pune\"\n",
    "val3 = \"bangalore\"\n",
    "\n",
    "output = dictName(val1,val2,val3)\n",
    "print(output)"
   ]
  },
  {
   "cell_type": "code",
   "execution_count": 11,
   "id": "1694dddd-6868-46f3-8c7f-2ee37498fbce",
   "metadata": {},
   "outputs": [
    {
     "name": "stdout",
     "output_type": "stream",
     "text": [
      "{'orange': 'Nagpur', 'grapes': 'Nashik', 'apple': 'kashmir'}\n"
     ]
    }
   ],
   "source": [
    "def my_function(f1,f2,f3):\n",
    "    joint_name = f'{f1}{f2}{f3}'\n",
    "    result = {\n",
    "        'orange':f1,\n",
    "        'grapes' :f2,\n",
    "        'apple':f3,\n",
    "    }\n",
    "    return result\n",
    "f1 = \"Nagpur\"\n",
    "f2 = \"Nashik\"\n",
    "f3 = \"kashmir\"\n",
    "\n",
    "output = my_function(f1,f2,f3)\n",
    "print(output)\n",
    "    "
   ]
  },
  {
   "cell_type": "code",
   "execution_count": null,
   "id": "d740a46d-e1cb-4f4d-9322-2b9bdc3cce82",
   "metadata": {},
   "outputs": [],
   "source": []
  }
 ],
 "metadata": {
  "kernelspec": {
   "display_name": "Python 3 (ipykernel)",
   "language": "python",
   "name": "python3"
  },
  "language_info": {
   "codemirror_mode": {
    "name": "ipython",
    "version": 3
   },
   "file_extension": ".py",
   "mimetype": "text/x-python",
   "name": "python",
   "nbconvert_exporter": "python",
   "pygments_lexer": "ipython3",
   "version": "3.11.7"
  }
 },
 "nbformat": 4,
 "nbformat_minor": 5
}
