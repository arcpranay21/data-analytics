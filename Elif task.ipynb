{
 "cells": [
  {
   "cell_type": "markdown",
   "id": "5419a20b-e738-4dc8-a388-6c90c4983a0f",
   "metadata": {},
   "source": [
    "# cut text"
   ]
  },
  {
   "cell_type": "code",
   "execution_count": 2,
   "id": "e63fed93-212c-406b-a9b5-3e1b4182a362",
   "metadata": {},
   "outputs": [],
   "source": [
    "def cut_text(text,start,end):\n",
    "    return text[start:end]"
   ]
  },
  {
   "cell_type": "code",
   "execution_count": 4,
   "id": "8dd91ded-1f4c-4753-a0c5-7e8869922142",
   "metadata": {},
   "outputs": [
    {
     "name": "stdout",
     "output_type": "stream",
     "text": [
      "jaykant is a wonderful man\n",
      "s a wonder\n"
     ]
    }
   ],
   "source": [
    "real_text = \"jaykant is a wonderful man\"\n",
    "start_position = 9\n",
    "end_position = 19\n",
    "cut_portion = cut_text(real_text,start_position,end_position)\n",
    "print(real_text)\n",
    "print(cut_portion)"
   ]
  },
  {
   "cell_type": "markdown",
   "id": "66a4f79f-8acd-44e9-9bf9-2768f4bb5863",
   "metadata": {},
   "source": [
    " # subtitute text"
   ]
  },
  {
   "cell_type": "code",
   "execution_count": 10,
   "id": "2cd05c12-3abe-430f-bb69-0e645cb0ec7f",
   "metadata": {},
   "outputs": [
    {
     "name": "stdout",
     "output_type": "stream",
     "text": [
      "jaykant is a  bad person\n",
      "jaykant is a  good person\n"
     ]
    }
   ],
   "source": [
    "def substitute(text,old,new):\n",
    "    return text.replace(old,new)\n",
    "real_text = \"jaykant is a  bad person\"\n",
    "old_text =\"bad\"\n",
    "new_text =\"good\"\n",
    "substituted_text = substitute(real_text,old_text,new_text)\n",
    "print(real_text)\n",
    "print(substituted_text)"
   ]
  },
  {
   "cell_type": "markdown",
   "id": "cac0f98e-b6b3-4202-9c7f-62db02118830",
   "metadata": {},
   "source": [
    "# Trim text"
   ]
  },
  {
   "cell_type": "code",
   "execution_count": 12,
   "id": "6446d9cc-e579-44a7-9428-c37911ad7137",
   "metadata": {},
   "outputs": [],
   "source": [
    " def trim(text,side = 'both'):\n",
    "     if side == 'left':\n",
    "         return text.lstrip()\n",
    "     elif side == 'right':\n",
    "         return text.rstrip()\n",
    "     elif side == 'both':\n",
    "         return text.strip()\n",
    "         "
   ]
  },
  {
   "cell_type": "code",
   "execution_count": 13,
   "id": "11dbbca4-8924-4072-88ca-efbaea09cc43",
   "metadata": {},
   "outputs": [
    {
     "name": "stdout",
     "output_type": "stream",
     "text": [
      "trimmed(both side): Jaykant shikare\n"
     ]
    }
   ],
   "source": [
    "text = \"          Jaykant shikare        \"\n",
    "trimmed_text_both = trim(text)\n",
    "print('trimmed(both side):',trimmed_text_both)\n"
   ]
  },
  {
   "cell_type": "markdown",
   "id": "a7f52cd0-311b-402f-943a-4e86937f3288",
   "metadata": {},
   "source": [
    "# join text"
   ]
  },
  {
   "cell_type": "code",
   "execution_count": 15,
   "id": "f740d3fb-1497-4667-a7e6-f6414bef0b2a",
   "metadata": {},
   "outputs": [],
   "source": [
    "def join_text (*args,seperator=''):\n",
    "    return seperator.join(args)"
   ]
  },
  {
   "cell_type": "code",
   "execution_count": 16,
   "id": "8f9009de-b66c-40e3-be58-91ef45168a4a",
   "metadata": {},
   "outputs": [
    {
     "name": "stdout",
     "output_type": "stream",
     "text": [
      " Narendra Modi\n"
     ]
    }
   ],
   "source": [
    "p1 = \" Narendra\"\n",
    "p2 = \"Modi\"\n",
    "\n",
    "joined_text = join_text(p1,p2,seperator=' ')\n",
    "print(joined_text)"
   ]
  },
  {
   "cell_type": "code",
   "execution_count": null,
   "id": "5456ddfb-69ce-48c3-99ae-ecd7c2121789",
   "metadata": {},
   "outputs": [],
   "source": []
  }
 ],
 "metadata": {
  "kernelspec": {
   "display_name": "Python 3 (ipykernel)",
   "language": "python",
   "name": "python3"
  },
  "language_info": {
   "codemirror_mode": {
    "name": "ipython",
    "version": 3
   },
   "file_extension": ".py",
   "mimetype": "text/x-python",
   "name": "python",
   "nbconvert_exporter": "python",
   "pygments_lexer": "ipython3",
   "version": "3.11.7"
  }
 },
 "nbformat": 4,
 "nbformat_minor": 5
}
